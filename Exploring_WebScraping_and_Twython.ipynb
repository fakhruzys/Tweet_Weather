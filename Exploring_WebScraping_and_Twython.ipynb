{
 "cells": [
  {
   "cell_type": "markdown",
   "metadata": {},
   "source": [
    "## First Part: Sending a Tweet from Python "
   ]
  },
  {
   "cell_type": "code",
   "execution_count": null,
   "metadata": {},
   "outputs": [],
   "source": [
    "# the package needed to send a tweet from Python\n",
    "from twython import Twython"
   ]
  },
  {
   "cell_type": "code",
   "execution_count": 5,
   "metadata": {},
   "outputs": [],
   "source": [
    "# ensure that you have all these keys beforehand\n",
    "\n",
    "consumer_key        = 'XX'\n",
    "consumer_secret     = 'XX'\n",
    "access_token        = 'XX'\n",
    "access_token_secret = 'XX'\n",
    "\n",
    "twitter = Twython(\n",
    "    consumer_key,\n",
    "    consumer_secret,\n",
    "    access_token,\n",
    "    access_token_secret\n",
    ")"
   ]
  },
  {
   "cell_type": "code",
   "execution_count": 6,
   "metadata": {},
   "outputs": [
    {
     "name": "stdout",
     "output_type": "stream",
     "text": [
      "Tweeted: This tweet was tweeted from Python using twython package!\n"
     ]
    }
   ],
   "source": [
    "# a simple message to test the API whether it is working or not\n",
    "message = \"This tweet was tweeted from Python using twython package!\"\n",
    "twitter.update_status(status=message)\n",
    "print(\"Tweeted: %s\" % message)"
   ]
  },
  {
   "cell_type": "markdown",
   "metadata": {},
   "source": [
    "## Second Part: Scraping Data"
   ]
  },
  {
   "cell_type": "code",
   "execution_count": 40,
   "metadata": {},
   "outputs": [],
   "source": [
    "# importing the necessary packages, beautifulsoup and selenium\n",
    "import bs4\n",
    "from bs4 import BeautifulSoup\n",
    "import requests\n",
    "import pandas as pd\n",
    "from selenium import webdriver"
   ]
  },
  {
   "cell_type": "code",
   "execution_count": 41,
   "metadata": {
    "scrolled": true
   },
   "outputs": [],
   "source": [
    "# here we use selenium because part of the information we want is rendered by javascript\n",
    "# hence we need to use selenium as mentioned here https://stackoverflow.com/questions/53200372/python-beautiful-soup-doesnt-locate-a-span-element\n",
    "# if we only use beautifulsoup, it will not be able to detect the information on that page because beautifulsoup can detect\n",
    "# static HTML only\n",
    "browser = webdriver.Chrome(\"./chromedriver\")\n",
    "url=\"https://weather.my/weather/?language=english&country=malaysia\"\n",
    "browser.get(url)\n",
    "soup =  BeautifulSoup(browser.page_source,'html.parser')"
   ]
  },
  {
   "cell_type": "code",
   "execution_count": 78,
   "metadata": {},
   "outputs": [],
   "source": [
    "# when inspecting the elements of the website, we find out that the information we want is located inside the div tag with class\n",
    "# page p1.\n",
    "# now in this case where there are space in the class name, we can opt for page or p1 as mentioned here \n",
    "# https://stackoverflow.com/questions/46718366/beautifulsoup-and-class-with-spaces\n",
    "linescoreA = soup.find(\"div\", {\"class\": \"p1\"})"
   ]
  },
  {
   "cell_type": "code",
   "execution_count": 80,
   "metadata": {},
   "outputs": [
    {
     "name": "stdout",
     "output_type": "stream",
     "text": [
      "<div class=\"page p1\"><div class=\"block\" data-pointid=\"1735161\" data-pointindex=\"0\"><strong class=\"\"><a href=\"/weather/kuala-lumpur/daily-forecast/today/?gid=1735161&amp;language=english&amp;country=malaysia\">Kuala Lumpur</a></strong><span class=\"temp\"><span>25 <div> </div> 33°C</span></span><em class=\"desc\">Cloudy</em></div><div class=\"block\" data-pointid=\"1732752\" data-pointindex=\"1\"><strong class=\"\"><a href=\"/weather/johor-bahru/daily-forecast/today/?gid=1732752&amp;language=english&amp;country=malaysia\">Johor Bahru</a></strong><span class=\"temp\"><span>27 <div> </div> 32°C</span></span><em class=\"desc\">Light rain</em></div><div class=\"block\" data-pointid=\"1734634\" data-pointindex=\"2\"><strong class=\"\"><a href=\"/weather/ipoh/daily-forecast/today/?gid=1734634&amp;language=english&amp;country=malaysia\">Ipoh</a></strong><span class=\"temp\"><span>26 <div> </div> 33°C</span></span><em class=\"desc\">Light rain</em></div><div class=\"block\" data-pointid=\"1735634\" data-pointindex=\"3\"><strong class=\"\"><a href=\"/weather/kuching/daily-forecast/today/?gid=1735634&amp;language=english&amp;country=malaysia\">Kuching</a></strong><span class=\"temp\"><span>25 <div> </div> 33°C</span></span><em class=\"desc\">Thunder</em></div><div class=\"block\" data-pointid=\"1733432\" data-pointindex=\"4\"><strong class=\"\"><a href=\"/weather/kota-kinabalu/daily-forecast/today/?gid=1733432&amp;language=english&amp;country=malaysia\">Kota Kinabalu</a></strong><span class=\"temp\"><span>26 <div> </div> 31°C</span></span><em class=\"desc\">Cloudy</em></div><div class=\"block\" data-pointid=\"1734052\" data-pointindex=\"5\"><strong class=\"\"><a href=\"/weather/sandakan/daily-forecast/today/?gid=1734052&amp;language=english&amp;country=malaysia\">Sandakan</a></strong><span class=\"temp\"><span>25 <div> </div> 32°C</span></span><em class=\"desc\">Rain</em></div><div class=\"block\" data-pointid=\"1734810\" data-pointindex=\"6\"><strong class=\"\"><a href=\"/weather/seremban/daily-forecast/today/?gid=1734810&amp;language=english&amp;country=malaysia\">Seremban</a></strong><span class=\"temp\"><span>25 <div> </div> 31°C</span></span><em class=\"desc\">Cloudy</em></div><div class=\"block\" data-pointid=\"1735227\" data-pointindex=\"7\"><strong class=\"\"><a href=\"/weather/kuantan/daily-forecast/today/?gid=1735227&amp;language=english&amp;country=malaysia\">Kuantan</a></strong><span class=\"temp\"><span>25 <div> </div> 33°C</span></span><em class=\"desc\">Light rain</em></div><div class=\"block\" data-pointid=\"1734199\" data-pointindex=\"8\"><strong class=\"\"><a href=\"/weather/tawau/daily-forecast/today/?gid=1734199&amp;language=english&amp;country=malaysia\">Tawau</a></strong><span class=\"temp\"><span>25 <div> </div> 30°C</span></span><em class=\"desc\">Rain</em></div><div class=\"block\" data-pointid=\"1734705\" data-pointindex=\"9\"><strong class=\"two-lines\"><a href=\"/weather/kuala-terengganu/daily-forecast/today/?gid=1734705&amp;language=english&amp;country=malaysia\">Kuala Terengganu</a></strong><span class=\"temp\"><span>25 <div> </div> 35°C</span></span><em class=\"desc\">Thunder</em></div></div>\n"
     ]
    }
   ],
   "source": [
    "# the information we want is nested here\n",
    "print(linescoreA)"
   ]
  },
  {
   "cell_type": "code",
   "execution_count": 79,
   "metadata": {},
   "outputs": [
    {
     "name": "stdout",
     "output_type": "stream",
     "text": [
      "['Kuala Lumpur', '25', '33°C', 'Cloudy', 'Johor Bahru', '27', '32°C', 'Light rain', 'Ipoh', '26', '33°C', 'Light rain', 'Kuching', '25', '33°C', 'Thunder', 'Kota Kinabalu', '26', '31°C', 'Cloudy', 'Sandakan', '25', '32°C', 'Rain', 'Seremban', '25', '31°C', 'Cloudy', 'Kuantan', '25', '33°C', 'Light rain', 'Tawau', '25', '30°C', 'Rain', 'Kuala Terengganu', '25', '35°C', 'Thunder']\n"
     ]
    }
   ],
   "source": [
    "# we can use the stripped_strings function here by beautiful soup and it extracts nicely the information we want\n",
    "# note that this method happens to work well with the website I want to scrape , there are other ways to extract the data we want\n",
    "print (list(linescoreA.stripped_strings))"
   ]
  },
  {
   "cell_type": "code",
   "execution_count": 67,
   "metadata": {
    "scrolled": true
   },
   "outputs": [
    {
     "name": "stdout",
     "output_type": "stream",
     "text": [
      " 33°C\n",
      " 32°C\n",
      " 33°C\n",
      " 33°C\n",
      " 31°C\n",
      " 32°C\n",
      " 31°C\n",
      " 33°C\n",
      " 30°C\n",
      " 35°C\n",
      " 33°C\n",
      " 34°C\n",
      " 33°C\n",
      " 32°C\n",
      " 34°C\n",
      " 32°C\n",
      " 34°C\n",
      " 32°C\n",
      " 34°C\n",
      " 33°C\n",
      " 33°C\n",
      " 31°C\n",
      " 34°C\n",
      " 33°C\n",
      " 31°C\n",
      " 35°C\n",
      " 32°C\n",
      " 29°C\n",
      " 31°C\n",
      " 29°C\n",
      " 34°C\n",
      " 34°C\n",
      " 32°C\n",
      " 34°C\n",
      " 32°C\n",
      " 34°C\n",
      " 31°C\n",
      " 34°C\n",
      " 33°C\n",
      " 32°C\n",
      " 29°C\n",
      " 34°C\n",
      " 33°C\n",
      " 35°C\n",
      " 32°C\n",
      " 32°C\n",
      " 31°C\n",
      " 35°C\n",
      " 35°C\n",
      " 35°C\n",
      " 32°C\n"
     ]
    }
   ],
   "source": [
    "# below are some other methods I explored to extract the data we want\n",
    "# It seemed a bit more complex and given that I have found the info I want using the above function, I will use that function\n",
    "# Maybe other ways can be explored with different project in the future\n",
    "spans = soup.find_all('span', attrs={'class':'temp'})\n",
    "for span in spans:\n",
    "    print (span.contents[0].contents[2])\n"
   ]
  },
  {
   "cell_type": "code",
   "execution_count": 70,
   "metadata": {},
   "outputs": [
    {
     "name": "stdout",
     "output_type": "stream",
     "text": [
      "Cloudy\n",
      "Light rain\n",
      "Light rain\n",
      "Thunder\n",
      "Cloudy\n",
      "Rain\n",
      "Cloudy\n",
      "Light rain\n",
      "Rain\n",
      "Thunder\n",
      "Light rain\n",
      "Cloudy\n",
      "Cloudy\n",
      "Cloudy\n",
      "Cloudy\n",
      "Light rain\n",
      "Light rain\n",
      "Light rain\n",
      "Light rain\n",
      "Cloudy\n",
      "Cloudy\n",
      "Light rain\n",
      "Thunder\n",
      "Cloudy\n",
      "Light rain\n",
      "Thunder\n",
      "Light rain\n",
      "Light rain\n",
      "Rain\n",
      "Thunder\n",
      "Light rain\n",
      "Light rain\n",
      "Cloudy\n",
      "Light rain\n",
      "Light rain\n",
      "Light rain\n",
      "Light rain\n",
      "Cloudy\n",
      "Thunder\n",
      "Light rain\n",
      "Light rain\n",
      "Thunder\n",
      "Thunder\n",
      "Light rain\n",
      "Light rain\n",
      "Light rain\n",
      "Light rain\n",
      "Thunder\n",
      "Cloudy\n",
      "Cloudy\n",
      "Light rain\n"
     ]
    }
   ],
   "source": [
    "spans = soup.find_all('em', attrs={'class':'desc'})\n",
    "for span in spans:\n",
    "    print (span.contents[0])\n"
   ]
  },
  {
   "cell_type": "code",
   "execution_count": 75,
   "metadata": {},
   "outputs": [
    {
     "name": "stdout",
     "output_type": "stream",
     "text": [
      "Sea point search\n",
      "<a href=\"/weather/kuala-lumpur/daily-forecast/today/?gid=1735161&amp;language=english&amp;country=malaysia\">Kuala Lumpur</a>\n",
      "<a href=\"/weather/johor-bahru/daily-forecast/today/?gid=1732752&amp;language=english&amp;country=malaysia\">Johor Bahru</a>\n",
      "<a href=\"/weather/ipoh/daily-forecast/today/?gid=1734634&amp;language=english&amp;country=malaysia\">Ipoh</a>\n",
      "<a href=\"/weather/kuching/daily-forecast/today/?gid=1735634&amp;language=english&amp;country=malaysia\">Kuching</a>\n",
      "<a href=\"/weather/kota-kinabalu/daily-forecast/today/?gid=1733432&amp;language=english&amp;country=malaysia\">Kota Kinabalu</a>\n",
      "<a href=\"/weather/sandakan/daily-forecast/today/?gid=1734052&amp;language=english&amp;country=malaysia\">Sandakan</a>\n",
      "<a href=\"/weather/seremban/daily-forecast/today/?gid=1734810&amp;language=english&amp;country=malaysia\">Seremban</a>\n",
      "<a href=\"/weather/kuantan/daily-forecast/today/?gid=1735227&amp;language=english&amp;country=malaysia\">Kuantan</a>\n",
      "<a href=\"/weather/tawau/daily-forecast/today/?gid=1734199&amp;language=english&amp;country=malaysia\">Tawau</a>\n",
      "<a href=\"/weather/alor-setar/daily-forecast/today/?gid=1736309&amp;language=english&amp;country=malaysia\">Alor Setar</a>\n",
      "<a href=\"/weather/bahau/daily-forecast/today/?gid=1734839&amp;language=english&amp;country=malaysia\">Bahau</a>\n",
      "<a href=\"/weather/banting/daily-forecast/today/?gid=1734781&amp;language=english&amp;country=malaysia\">Banting</a>\n",
      "<a href=\"/weather/batu-pahat/daily-forecast/today/?gid=1732687&amp;language=english&amp;country=malaysia\">Batu Pahat</a>\n",
      "<a href=\"/weather/bentong-town/daily-forecast/today/?gid=1779790&amp;language=english&amp;country=malaysia\">Bentong Town</a>\n",
      "<a href=\"/weather/bidur/daily-forecast/today/?gid=1735287&amp;language=english&amp;country=malaysia\">Bidur</a>\n",
      "<a href=\"/weather/bintulu/daily-forecast/today/?gid=1737486&amp;language=english&amp;country=malaysia\">Bintulu</a>\n",
      "<a href=\"/weather/bukit-mertajam/daily-forecast/today/?gid=1735079&amp;language=english&amp;country=malaysia\">Bukit Mertajam</a>\n",
      "<a href=\"/weather/cukai/daily-forecast/today/?gid=1732945&amp;language=english&amp;country=malaysia\">Cukai</a>\n",
      "<a href=\"/weather/jerantut/daily-forecast/today/?gid=1732602&amp;language=english&amp;country=malaysia\">Jerantut</a>\n",
      "<a href=\"/weather/kampong-dungun/daily-forecast/today/?gid=1769612&amp;language=english&amp;country=malaysia\">Kampong Dungun</a>\n",
      "<a href=\"/weather/kangar/daily-forecast/today/?gid=1736278&amp;language=english&amp;country=malaysia\">Kangar</a>\n",
      "<a href=\"/weather/kapit/daily-forecast/today/?gid=1737185&amp;language=english&amp;country=malaysia\">Kapit</a>\n",
      "<a href=\"/weather/keluang/daily-forecast/today/?gid=1732811&amp;language=english&amp;country=malaysia\">Keluang</a>\n",
      "<a href=\"/weather/keningau/daily-forecast/today/?gid=1734098&amp;language=english&amp;country=malaysia\">Keningau</a>\n",
      "<a href=\"/weather/kota-baharu/daily-forecast/today/?gid=1736376&amp;language=english&amp;country=malaysia\">Kota Baharu</a>\n",
      "<a href=\"/weather/kota-tinggi/daily-forecast/today/?gid=1732738&amp;language=english&amp;country=malaysia\">Kota Tinggi</a>\n",
      "<a href=\"/weather/kuah/daily-forecast/today/?gid=1222396&amp;language=english&amp;country=malaysia\">Kuah</a>\n",
      "<a href=\"/weather/kudat/daily-forecast/today/?gid=1736458&amp;language=english&amp;country=malaysia\">Kudat</a>\n",
      "<a href=\"/weather/lahad-datu/daily-forecast/today/?gid=1733953&amp;language=english&amp;country=malaysia\">Lahad Datu</a>\n",
      "<a href=\"/weather/limbang/daily-forecast/today/?gid=1737714&amp;language=english&amp;country=malaysia\">Limbang</a>\n",
      "<a href=\"/weather/lumut/daily-forecast/today/?gid=1735450&amp;language=english&amp;country=malaysia\">Lumut</a>\n",
      "<a href=\"/weather/melaka/daily-forecast/today/?gid=1734759&amp;language=english&amp;country=malaysia\">Melaka</a>\n",
      "<a href=\"/weather/miri/daily-forecast/today/?gid=1738050&amp;language=english&amp;country=malaysia\">Miri</a>\n",
      "<a href=\"/weather/muar/daily-forecast/today/?gid=1732869&amp;language=english&amp;country=malaysia\">Muar</a>\n",
      "<a href=\"/weather/pekan/daily-forecast/today/?gid=1734971&amp;language=english&amp;country=malaysia\">Pekan</a>\n",
      "<a href=\"/weather/pontian-kecil/daily-forecast/today/?gid=1732711&amp;language=english&amp;country=malaysia\">Pontian Kecil</a>\n",
      "<a href=\"/weather/raub/daily-forecast/today/?gid=1732663&amp;language=english&amp;country=malaysia\">Raub</a>\n",
      "<a href=\"/weather/sarikei/daily-forecast/today/?gid=1735837&amp;language=english&amp;country=malaysia\">Sarikei</a>\n",
      "<a href=\"/weather/segamat/daily-forecast/today/?gid=1732846&amp;language=english&amp;country=malaysia\">Segamat</a>\n",
      "<a href=\"/weather/semporna/daily-forecast/today/?gid=1733697&amp;language=english&amp;country=malaysia\">Semporna</a>\n",
      "<a href=\"/weather/sibu/daily-forecast/today/?gid=1735902&amp;language=english&amp;country=malaysia\">Sibu</a>\n",
      "<a href=\"/weather/simanggang/daily-forecast/today/?gid=1735799&amp;language=english&amp;country=malaysia\">Simanggang</a>\n",
      "<a href=\"/weather/sungai-besar/daily-forecast/today/?gid=1735199&amp;language=english&amp;country=malaysia\">Sungai Besar</a>\n",
      "<a href=\"/weather/sungai-petani/daily-forecast/today/?gid=1735498&amp;language=english&amp;country=malaysia\">Sungai Petani</a>\n",
      "<a href=\"/weather/taiping/daily-forecast/today/?gid=1734586&amp;language=english&amp;country=malaysia\">Taiping</a>\n",
      "<a href=\"/weather/tampin/daily-forecast/today/?gid=1734738&amp;language=english&amp;country=malaysia\">Tampin</a>\n",
      "<a href=\"/weather/tanah-merah/daily-forecast/today/?gid=1735553&amp;language=english&amp;country=malaysia\">Tanah Merah</a>\n",
      "<a href=\"/weather/teluk-intan/daily-forecast/today/?gid=1735459&amp;language=english&amp;country=malaysia\">Teluk Intan</a>\n",
      "<a href=\"/weather/temerluh/daily-forecast/today/?gid=1735022&amp;language=english&amp;country=malaysia\">Temerluh</a>\n",
      "<a href=\"/weather/victoria/daily-forecast/today/?gid=1733782&amp;language=english&amp;country=malaysia\">Victoria</a>\n",
      "weather.my \n"
     ]
    }
   ],
   "source": [
    "spans = soup.find_all('strong', attrs={'class':''})\n",
    "for span in spans:\n",
    "    print (span.contents[0])\n"
   ]
  },
  {
   "cell_type": "code",
   "execution_count": null,
   "metadata": {},
   "outputs": [],
   "source": []
  }
 ],
 "metadata": {
  "kernelspec": {
   "display_name": "Python 3",
   "language": "python",
   "name": "python3"
  },
  "language_info": {
   "codemirror_mode": {
    "name": "ipython",
    "version": 3
   },
   "file_extension": ".py",
   "mimetype": "text/x-python",
   "name": "python",
   "nbconvert_exporter": "python",
   "pygments_lexer": "ipython3",
   "version": "3.7.4"
  }
 },
 "nbformat": 4,
 "nbformat_minor": 2
}
