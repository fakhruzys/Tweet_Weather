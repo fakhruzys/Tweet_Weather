{
 "cells": [
  {
   "cell_type": "code",
   "execution_count": 2,
   "metadata": {},
   "outputs": [],
   "source": [
    "from twython import Twython\n",
    "import bs4\n",
    "from bs4 import BeautifulSoup\n",
    "import requests\n",
    "import pandas as pd\n",
    "from selenium import webdriver\n",
    "\n",
    "\n",
    "consumer_key        = 'XX'\n",
    "consumer_secret     = 'XX'\n",
    "access_token        = 'XX'\n",
    "access_token_secret = 'XX'\n",
    "\n",
    "twitter = Twython(\n",
    "    consumer_key,\n",
    "    consumer_secret,\n",
    "    access_token,\n",
    "    access_token_secret\n",
    ")"
   ]
  },
  {
   "cell_type": "code",
   "execution_count": 3,
   "metadata": {},
   "outputs": [],
   "source": [
    "browser = webdriver.Chrome(\"./chromedriver\")\n",
    "url=\"https://weather.my/weather/?language=english&country=malaysia\"\n",
    "browser.get(url)\n",
    "soup =  BeautifulSoup(browser.page_source,'html.parser')"
   ]
  },
  {
   "cell_type": "code",
   "execution_count": 6,
   "metadata": {},
   "outputs": [],
   "source": [
    "weather_info = soup.find(\"div\", {\"class\": \"p1\"})\n",
    "list_of_weather_info = list(weather_info.stripped_strings)\n",
    "Kuala_Lumpur = list_of_weather_info[0:4]"
   ]
  },
  {
   "cell_type": "code",
   "execution_count": 7,
   "metadata": {},
   "outputs": [],
   "source": [
    "message = \"Today in {}, the weather is forecasted to be {} with the temparature being {} -> {}\".format(Kuala_Lumpur[0],Kuala_Lumpur[3],Kuala_Lumpur[1],Kuala_Lumpur[2])"
   ]
  },
  {
   "cell_type": "code",
   "execution_count": 9,
   "metadata": {},
   
     },
     "execution_count": 9,
     "metadata": {},
     "output_type": "execute_result"
    }
   ],
   "source": [
    "twitter.update_status(status=message)"
   ]
  },
  {
   "cell_type": "code",
   "execution_count": 8,
   "metadata": {},
   "outputs": [
    {
     "name": "stdout",
     "output_type": "stream",
     "text": [
      "Today in Kuala Lumpur, the weather is forecasted to be Cloudy with the temparature being 25 -> 33°C\n"
     ]
    }
   ],
   "source": [
    "print(message)"
   ]
  },
  {
   "cell_type": "code",
   "execution_count": null,
   "metadata": {},
   "outputs": [],
   "source": []
  }
 ],
 "metadata": {
  "kernelspec": {
   "display_name": "Python 3",
   "language": "python",
   "name": "python3"
  },
  "language_info": {
   "codemirror_mode": {
    "name": "ipython",
    "version": 3
   },
   "file_extension": ".py",
   "mimetype": "text/x-python",
   "name": "python",
   "nbconvert_exporter": "python",
   "pygments_lexer": "ipython3",
   "version": "3.7.4"
  }
 },
 "nbformat": 4,
 "nbformat_minor": 2
}
