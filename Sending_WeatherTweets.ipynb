{
 "cells": [
  {
   "cell_type": "code",
   "execution_count": 2,
   "metadata": {},
   "outputs": [],
   "source": [
    "from twython import Twython\n",
    "import bs4\n",
    "from bs4 import BeautifulSoup\n",
    "import requests\n",
    "import pandas as pd\n",
    "from selenium import webdriver\n",
    "\n",
    "\n",
    "consumer_key        = 'XX'\n",
    "consumer_secret     = 'XX'\n",
    "access_token        = 'XX'\n",
    "access_token_secret = 'XX'\n",
    "\n",
    "twitter = Twython(\n",
    "    consumer_key,\n",
    "    consumer_secret,\n",
    "    access_token,\n",
    "    access_token_secret\n",
    ")"
   ]
  },
  {
   "cell_type": "code",
   "execution_count": 3,
   "metadata": {},
   "outputs": [],
   "source": [
    "browser = webdriver.Chrome(\"./chromedriver\")\n",
    "url=\"https://weather.my/weather/?language=english&country=malaysia\"\n",
    "browser.get(url)\n",
    "soup =  BeautifulSoup(browser.page_source,'html.parser')"
   ]
  },
  {
   "cell_type": "code",
   "execution_count": 6,
   "metadata": {},
   "outputs": [],
   "source": [
    "weather_info = soup.find(\"div\", {\"class\": \"p1\"})\n",
    "list_of_weather_info = list(weather_info.stripped_strings)\n",
    "Kuala_Lumpur = list_of_weather_info[0:4]"
   ]
  },
  {
   "cell_type": "code",
   "execution_count": 7,
   "metadata": {},
   "outputs": [],
   "source": [
    "message = \"Today in {}, the weather is forecasted to be {} with the temparature being {} -> {}\".format(Kuala_Lumpur[0],Kuala_Lumpur[3],Kuala_Lumpur[1],Kuala_Lumpur[2])"
   ]
  },
  {
   "cell_type": "code",
   "execution_count": 9,
   "metadata": {},
   "outputs": [
    {
     "data": {
      "text/plain": [
       "{'created_at': 'Sat Oct 17 01:49:21 +0000 2020',\n",
       " 'id': 1317281512857874432,\n",
       " 'id_str': '1317281512857874432',\n",
       " 'text': 'Today in Kuala Lumpur, the weather is forecasted to be Cloudy with the temparature being 25 -&gt; 33°C',\n",
       " 'truncated': False,\n",
       " 'entities': {'hashtags': [], 'symbols': [], 'user_mentions': [], 'urls': []},\n",
       " 'source': '',\n",
       " 'in_reply_to_status_id': None,\n",
       " 'in_reply_to_status_id_str': None,\n",
       " 'in_reply_to_user_id': None,\n",
       " 'in_reply_to_user_id_str': None,\n",
       " 'in_reply_to_screen_name': None,\n",
       " 'user': {'id': 1267768906548043776,\n",
       "  'id_str': '1267768906548043776',\n",
       "  'name': 'Kuzy',\n",
       "  'screen_name': 'fakhruzys',\n",
       "  'location': '',\n",
       "  'description': '',\n",
       "  'url': None,\n",
       "  'entities': {'description': {'urls': []}},\n",
       "  'protected': True,\n",
       "  'followers_count': 8,\n",
       "  'friends_count': 160,\n",
       "  'listed_count': 0,\n",
       "  'created_at': 'Tue Jun 02 10:44:07 +0000 2020',\n",
       "  'favourites_count': 547,\n",
       "  'utc_offset': None,\n",
       "  'time_zone': None,\n",
       "  'geo_enabled': False,\n",
       "  'verified': False,\n",
       "  'statuses_count': 212,\n",
       "  'lang': None,\n",
       "  'contributors_enabled': False,\n",
       "  'is_translator': False,\n",
       "  'is_translation_enabled': False,\n",
       "  'profile_background_color': 'F5F8FA',\n",
       "  'profile_background_image_url': None,\n",
       "  'profile_background_image_url_https': None,\n",
       "  'profile_background_tile': False,\n",
       "  'profile_image_url': 'http://pbs.twimg.com/profile_images/1267769081651838982/ibHfW34v_normal.jpg',\n",
       "  'profile_image_url_https': 'https://pbs.twimg.com/profile_images/1267769081651838982/ibHfW34v_normal.jpg',\n",
       "  'profile_banner_url': 'https://pbs.twimg.com/profile_banners/1267768906548043776/1601192119',\n",
       "  'profile_link_color': '1DA1F2',\n",
       "  'profile_sidebar_border_color': 'C0DEED',\n",
       "  'profile_sidebar_fill_color': 'DDEEF6',\n",
       "  'profile_text_color': '333333',\n",
       "  'profile_use_background_image': True,\n",
       "  'has_extended_profile': True,\n",
       "  'default_profile': True,\n",
       "  'default_profile_image': False,\n",
       "  'following': False,\n",
       "  'follow_request_sent': False,\n",
       "  'notifications': False,\n",
       "  'translator_type': 'none'},\n",
       " 'geo': None,\n",
       " 'coordinates': None,\n",
       " 'place': None,\n",
       " 'contributors': None,\n",
       " 'is_quote_status': False,\n",
       " 'retweet_count': 0,\n",
       " 'favorite_count': 0,\n",
       " 'favorited': False,\n",
       " 'retweeted': False,\n",
       " 'lang': 'en'}"
      ]
     },
     "execution_count": 9,
     "metadata": {},
     "output_type": "execute_result"
    }
   ],
   "source": [
    "twitter.update_status(status=message)"
   ]
  },
  {
   "cell_type": "code",
   "execution_count": 8,
   "metadata": {},
   "outputs": [
    {
     "name": "stdout",
     "output_type": "stream",
     "text": [
      "Today in Kuala Lumpur, the weather is forecasted to be Cloudy with the temparature being 25 -> 33°C\n"
     ]
    }
   ],
   "source": [
    "print(message)"
   ]
  },
  {
   "cell_type": "code",
   "execution_count": null,
   "metadata": {},
   "outputs": [],
   "source": []
  }
 ],
 "metadata": {
  "kernelspec": {
   "display_name": "Python 3",
   "language": "python",
   "name": "python3"
  },
  "language_info": {
   "codemirror_mode": {
    "name": "ipython",
    "version": 3
   },
   "file_extension": ".py",
   "mimetype": "text/x-python",
   "name": "python",
   "nbconvert_exporter": "python",
   "pygments_lexer": "ipython3",
   "version": "3.7.4"
  }
 },
 "nbformat": 4,
 "nbformat_minor": 2
}
